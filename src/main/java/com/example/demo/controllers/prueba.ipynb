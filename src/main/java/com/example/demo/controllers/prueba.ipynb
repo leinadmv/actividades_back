{
 "cells": [
  {
   "cell_type": "code",
   "execution_count": null,
   "metadata": {},
   "outputs": [],
   "source": [
    "\n",
    "class Result {\n",
    "\n",
    "    /*\n",
    "     * Complete the 'validationBrackets' function below.\n",
    "     *\n",
    "     * The function is expected to return a BOOLEAN.\n",
    "     * The function accepts STRING text as parameter.\n",
    "     */\n",
    "\n",
    "    public static boolean validationBrackets(String text) {\n",
    "        Stack<Character> stack = new Stack<>();\n",
    "\n",
    "    for (int i = 0; i < text.length(); i++) {\n",
    "        char c = text.charAt(i);\n",
    "        if (c == '[' || c == '{' || c == '(') {\n",
    "            stack.push(c);\n",
    "        } else if (c == ']' || c == '}' || c == ')') {\n",
    "            if (stack.isEmpty()) {\n",
    "                return false;\n",
    "            }\n",
    "            char opening = stack.pop();\n",
    "            if ((opening == '[' && c != ']') || (opening == '{' && c != '}') || (opening == '(' && c != ')')) {\n",
    "                return false;\n",
    "            }\n",
    "        }\n",
    "    }\n",
    "\n",
    "    return stack.isEmpty();\n",
    "    }\n",
    "\n",
    "}\n",
    "\n",
    "public class Solution {\n",
    "    public static void main(String[] args) throws IOException {\n",
    "        BufferedReader bufferedReader = new BufferedReader(new InputStreamReader(System.in));\n",
    "        BufferedWriter bufferedWriter = new BufferedWriter(new FileWriter(System.getenv(\"OUTPUT_PATH\")));\n",
    "\n",
    "        String text = bufferedReader.readLine();\n",
    "\n",
    "        boolean result = Result.validationBrackets(text);\n",
    "\n",
    "        bufferedWriter.write(String.valueOf(result ? 1 : 0));\n",
    "        bufferedWriter.newLine();\n",
    "\n",
    "        bufferedReader.close();\n",
    "        bufferedWriter.close();\n",
    "    }\n",
    "}"
   ]
  }
 ],
 "metadata": {
  "language_info": {
   "name": "python"
  },
  "orig_nbformat": 4
 },
 "nbformat": 4,
 "nbformat_minor": 2
}
